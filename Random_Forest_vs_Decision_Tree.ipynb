{
  "nbformat": 4,
  "nbformat_minor": 0,
  "metadata": {
    "colab": {
      "provenance": [],
      "mount_file_id": "1FuTXnUnoMDYoPaNCc3HwhFQHBNv4JQLj",
      "authorship_tag": "ABX9TyMVMVZNaOXRKeZW4a7OwLGu",
      "include_colab_link": true
    },
    "kernelspec": {
      "name": "python3",
      "display_name": "Python 3"
    },
    "language_info": {
      "name": "python"
    }
  },
  "cells": [
    {
      "cell_type": "markdown",
      "metadata": {
        "id": "view-in-github",
        "colab_type": "text"
      },
      "source": [
        "<a href=\"https://colab.research.google.com/github/harshavardhansannithi/ARDS-using-Machine-learning/blob/main/Random_Forest_vs_Decision_Tree.ipynb\" target=\"_parent\"><img src=\"https://colab.research.google.com/assets/colab-badge.svg\" alt=\"Open In Colab\"/></a>"
      ]
    },
    {
      "cell_type": "code",
      "execution_count": 14,
      "metadata": {
        "id": "iF7dDFzuGSu_"
      },
      "outputs": [],
      "source": [
        "import pandas as pd\n",
        "from sklearn.model_selection import train_test_split\n",
        "from sklearn.ensemble import RandomForestClassifier\n",
        "from sklearn.tree import DecisionTreeClassifier\n",
        "from sklearn.metrics import accuracy_score, precision_score, recall_score, f1_score"
      ]
    },
    {
      "cell_type": "code",
      "source": [
        "# Load your dataset (replace with your actual data)\n",
        "data = pd.read_csv(\"/content/drive/MyDrive/survey lung cancer.csv\")"
      ],
      "metadata": {
        "id": "wnGgt1yeGd6X"
      },
      "execution_count": 15,
      "outputs": []
    },
    {
      "cell_type": "code",
      "source": [
        "# Separate features and target variable\n",
        "X = data.drop(\"LUNG_RECRUITMENT\", axis=1)\n",
        "y = data[\"LUNG_RECRUITMENT\"]"
      ],
      "metadata": {
        "id": "5bEu6-ErG1Zl"
      },
      "execution_count": 16,
      "outputs": []
    },
    {
      "cell_type": "code",
      "source": [
        "# Feature scaling (optional)\n",
        "from sklearn.preprocessing import StandardScaler, LabelEncoder\n",
        "\n",
        "# Assuming 'column_name' is the column containing string values\n",
        "le = LabelEncoder()\n",
        "X['GENDER'] = le.fit_transform(X['GENDER'])\n",
        "\n",
        "scaler = StandardScaler()\n",
        "X_scaled = scaler.fit_transform(X)"
      ],
      "metadata": {
        "id": "ytC5rzUnG65H"
      },
      "execution_count": 17,
      "outputs": []
    },
    {
      "cell_type": "code",
      "source": [
        "data.describe()"
      ],
      "metadata": {
        "colab": {
          "base_uri": "https://localhost:8080/",
          "height": 337
        },
        "id": "ugRngMR6G_Gp",
        "outputId": "79040f52-b83e-44fd-ed46-4bf160ddbd66"
      },
      "execution_count": 18,
      "outputs": [
        {
          "output_type": "execute_result",
          "data": {
            "text/plain": [
              "              AGE     SMOKING  YELLOW_FINGERS     ANXIETY  PEER_PRESSURE  \\\n",
              "count  309.000000  309.000000      309.000000  309.000000     309.000000   \n",
              "mean    62.673139    1.563107        1.569579    1.498382       1.501618   \n",
              "std      8.210301    0.496806        0.495938    0.500808       0.500808   \n",
              "min     21.000000    1.000000        1.000000    1.000000       1.000000   \n",
              "25%     57.000000    1.000000        1.000000    1.000000       1.000000   \n",
              "50%     62.000000    2.000000        2.000000    1.000000       2.000000   \n",
              "75%     69.000000    2.000000        2.000000    2.000000       2.000000   \n",
              "max     87.000000    2.000000        2.000000    2.000000       2.000000   \n",
              "\n",
              "       CHRONIC DISEASE    FATIGUE     ALLERGY     WHEEZING  ALCOHOL CONSUMING  \\\n",
              "count       309.000000  309.000000  309.000000  309.000000         309.000000   \n",
              "mean          1.504854    1.673139    1.556634    1.556634           1.556634   \n",
              "std           0.500787    0.469827    0.497588    0.497588           0.497588   \n",
              "min           1.000000    1.000000    1.000000    1.000000           1.000000   \n",
              "25%           1.000000    1.000000    1.000000    1.000000           1.000000   \n",
              "50%           2.000000    2.000000    2.000000    2.000000           2.000000   \n",
              "75%           2.000000    2.000000    2.000000    2.000000           2.000000   \n",
              "max           2.000000    2.000000    2.000000    2.000000           2.000000   \n",
              "\n",
              "         COUGHING  SHORTNESS OF BREATH  SWALLOWING DIFFICULTY  CHEST PAIN  \n",
              "count  309.000000           309.000000             309.000000  309.000000  \n",
              "mean     1.579288             1.640777               1.469256    1.556634  \n",
              "std      0.494474             0.480551               0.499863    0.497588  \n",
              "min      1.000000             1.000000               1.000000    1.000000  \n",
              "25%      1.000000             1.000000               1.000000    1.000000  \n",
              "50%      2.000000             2.000000               1.000000    2.000000  \n",
              "75%      2.000000             2.000000               2.000000    2.000000  \n",
              "max      2.000000             2.000000               2.000000    2.000000  "
            ],
            "text/html": [
              "\n",
              "  <div id=\"df-30c3db33-e1d5-41ba-b9fe-5946616a35dd\" class=\"colab-df-container\">\n",
              "    <div>\n",
              "<style scoped>\n",
              "    .dataframe tbody tr th:only-of-type {\n",
              "        vertical-align: middle;\n",
              "    }\n",
              "\n",
              "    .dataframe tbody tr th {\n",
              "        vertical-align: top;\n",
              "    }\n",
              "\n",
              "    .dataframe thead th {\n",
              "        text-align: right;\n",
              "    }\n",
              "</style>\n",
              "<table border=\"1\" class=\"dataframe\">\n",
              "  <thead>\n",
              "    <tr style=\"text-align: right;\">\n",
              "      <th></th>\n",
              "      <th>AGE</th>\n",
              "      <th>SMOKING</th>\n",
              "      <th>YELLOW_FINGERS</th>\n",
              "      <th>ANXIETY</th>\n",
              "      <th>PEER_PRESSURE</th>\n",
              "      <th>CHRONIC DISEASE</th>\n",
              "      <th>FATIGUE</th>\n",
              "      <th>ALLERGY</th>\n",
              "      <th>WHEEZING</th>\n",
              "      <th>ALCOHOL CONSUMING</th>\n",
              "      <th>COUGHING</th>\n",
              "      <th>SHORTNESS OF BREATH</th>\n",
              "      <th>SWALLOWING DIFFICULTY</th>\n",
              "      <th>CHEST PAIN</th>\n",
              "    </tr>\n",
              "  </thead>\n",
              "  <tbody>\n",
              "    <tr>\n",
              "      <th>count</th>\n",
              "      <td>309.000000</td>\n",
              "      <td>309.000000</td>\n",
              "      <td>309.000000</td>\n",
              "      <td>309.000000</td>\n",
              "      <td>309.000000</td>\n",
              "      <td>309.000000</td>\n",
              "      <td>309.000000</td>\n",
              "      <td>309.000000</td>\n",
              "      <td>309.000000</td>\n",
              "      <td>309.000000</td>\n",
              "      <td>309.000000</td>\n",
              "      <td>309.000000</td>\n",
              "      <td>309.000000</td>\n",
              "      <td>309.000000</td>\n",
              "    </tr>\n",
              "    <tr>\n",
              "      <th>mean</th>\n",
              "      <td>62.673139</td>\n",
              "      <td>1.563107</td>\n",
              "      <td>1.569579</td>\n",
              "      <td>1.498382</td>\n",
              "      <td>1.501618</td>\n",
              "      <td>1.504854</td>\n",
              "      <td>1.673139</td>\n",
              "      <td>1.556634</td>\n",
              "      <td>1.556634</td>\n",
              "      <td>1.556634</td>\n",
              "      <td>1.579288</td>\n",
              "      <td>1.640777</td>\n",
              "      <td>1.469256</td>\n",
              "      <td>1.556634</td>\n",
              "    </tr>\n",
              "    <tr>\n",
              "      <th>std</th>\n",
              "      <td>8.210301</td>\n",
              "      <td>0.496806</td>\n",
              "      <td>0.495938</td>\n",
              "      <td>0.500808</td>\n",
              "      <td>0.500808</td>\n",
              "      <td>0.500787</td>\n",
              "      <td>0.469827</td>\n",
              "      <td>0.497588</td>\n",
              "      <td>0.497588</td>\n",
              "      <td>0.497588</td>\n",
              "      <td>0.494474</td>\n",
              "      <td>0.480551</td>\n",
              "      <td>0.499863</td>\n",
              "      <td>0.497588</td>\n",
              "    </tr>\n",
              "    <tr>\n",
              "      <th>min</th>\n",
              "      <td>21.000000</td>\n",
              "      <td>1.000000</td>\n",
              "      <td>1.000000</td>\n",
              "      <td>1.000000</td>\n",
              "      <td>1.000000</td>\n",
              "      <td>1.000000</td>\n",
              "      <td>1.000000</td>\n",
              "      <td>1.000000</td>\n",
              "      <td>1.000000</td>\n",
              "      <td>1.000000</td>\n",
              "      <td>1.000000</td>\n",
              "      <td>1.000000</td>\n",
              "      <td>1.000000</td>\n",
              "      <td>1.000000</td>\n",
              "    </tr>\n",
              "    <tr>\n",
              "      <th>25%</th>\n",
              "      <td>57.000000</td>\n",
              "      <td>1.000000</td>\n",
              "      <td>1.000000</td>\n",
              "      <td>1.000000</td>\n",
              "      <td>1.000000</td>\n",
              "      <td>1.000000</td>\n",
              "      <td>1.000000</td>\n",
              "      <td>1.000000</td>\n",
              "      <td>1.000000</td>\n",
              "      <td>1.000000</td>\n",
              "      <td>1.000000</td>\n",
              "      <td>1.000000</td>\n",
              "      <td>1.000000</td>\n",
              "      <td>1.000000</td>\n",
              "    </tr>\n",
              "    <tr>\n",
              "      <th>50%</th>\n",
              "      <td>62.000000</td>\n",
              "      <td>2.000000</td>\n",
              "      <td>2.000000</td>\n",
              "      <td>1.000000</td>\n",
              "      <td>2.000000</td>\n",
              "      <td>2.000000</td>\n",
              "      <td>2.000000</td>\n",
              "      <td>2.000000</td>\n",
              "      <td>2.000000</td>\n",
              "      <td>2.000000</td>\n",
              "      <td>2.000000</td>\n",
              "      <td>2.000000</td>\n",
              "      <td>1.000000</td>\n",
              "      <td>2.000000</td>\n",
              "    </tr>\n",
              "    <tr>\n",
              "      <th>75%</th>\n",
              "      <td>69.000000</td>\n",
              "      <td>2.000000</td>\n",
              "      <td>2.000000</td>\n",
              "      <td>2.000000</td>\n",
              "      <td>2.000000</td>\n",
              "      <td>2.000000</td>\n",
              "      <td>2.000000</td>\n",
              "      <td>2.000000</td>\n",
              "      <td>2.000000</td>\n",
              "      <td>2.000000</td>\n",
              "      <td>2.000000</td>\n",
              "      <td>2.000000</td>\n",
              "      <td>2.000000</td>\n",
              "      <td>2.000000</td>\n",
              "    </tr>\n",
              "    <tr>\n",
              "      <th>max</th>\n",
              "      <td>87.000000</td>\n",
              "      <td>2.000000</td>\n",
              "      <td>2.000000</td>\n",
              "      <td>2.000000</td>\n",
              "      <td>2.000000</td>\n",
              "      <td>2.000000</td>\n",
              "      <td>2.000000</td>\n",
              "      <td>2.000000</td>\n",
              "      <td>2.000000</td>\n",
              "      <td>2.000000</td>\n",
              "      <td>2.000000</td>\n",
              "      <td>2.000000</td>\n",
              "      <td>2.000000</td>\n",
              "      <td>2.000000</td>\n",
              "    </tr>\n",
              "  </tbody>\n",
              "</table>\n",
              "</div>\n",
              "    <div class=\"colab-df-buttons\">\n",
              "\n",
              "  <div class=\"colab-df-container\">\n",
              "    <button class=\"colab-df-convert\" onclick=\"convertToInteractive('df-30c3db33-e1d5-41ba-b9fe-5946616a35dd')\"\n",
              "            title=\"Convert this dataframe to an interactive table.\"\n",
              "            style=\"display:none;\">\n",
              "\n",
              "  <svg xmlns=\"http://www.w3.org/2000/svg\" height=\"24px\" viewBox=\"0 -960 960 960\">\n",
              "    <path d=\"M120-120v-720h720v720H120Zm60-500h600v-160H180v160Zm220 220h160v-160H400v160Zm0 220h160v-160H400v160ZM180-400h160v-160H180v160Zm440 0h160v-160H620v160ZM180-180h160v-160H180v160Zm440 0h160v-160H620v160Z\"/>\n",
              "  </svg>\n",
              "    </button>\n",
              "\n",
              "  <style>\n",
              "    .colab-df-container {\n",
              "      display:flex;\n",
              "      gap: 12px;\n",
              "    }\n",
              "\n",
              "    .colab-df-convert {\n",
              "      background-color: #E8F0FE;\n",
              "      border: none;\n",
              "      border-radius: 50%;\n",
              "      cursor: pointer;\n",
              "      display: none;\n",
              "      fill: #1967D2;\n",
              "      height: 32px;\n",
              "      padding: 0 0 0 0;\n",
              "      width: 32px;\n",
              "    }\n",
              "\n",
              "    .colab-df-convert:hover {\n",
              "      background-color: #E2EBFA;\n",
              "      box-shadow: 0px 1px 2px rgba(60, 64, 67, 0.3), 0px 1px 3px 1px rgba(60, 64, 67, 0.15);\n",
              "      fill: #174EA6;\n",
              "    }\n",
              "\n",
              "    .colab-df-buttons div {\n",
              "      margin-bottom: 4px;\n",
              "    }\n",
              "\n",
              "    [theme=dark] .colab-df-convert {\n",
              "      background-color: #3B4455;\n",
              "      fill: #D2E3FC;\n",
              "    }\n",
              "\n",
              "    [theme=dark] .colab-df-convert:hover {\n",
              "      background-color: #434B5C;\n",
              "      box-shadow: 0px 1px 3px 1px rgba(0, 0, 0, 0.15);\n",
              "      filter: drop-shadow(0px 1px 2px rgba(0, 0, 0, 0.3));\n",
              "      fill: #FFFFFF;\n",
              "    }\n",
              "  </style>\n",
              "\n",
              "    <script>\n",
              "      const buttonEl =\n",
              "        document.querySelector('#df-30c3db33-e1d5-41ba-b9fe-5946616a35dd button.colab-df-convert');\n",
              "      buttonEl.style.display =\n",
              "        google.colab.kernel.accessAllowed ? 'block' : 'none';\n",
              "\n",
              "      async function convertToInteractive(key) {\n",
              "        const element = document.querySelector('#df-30c3db33-e1d5-41ba-b9fe-5946616a35dd');\n",
              "        const dataTable =\n",
              "          await google.colab.kernel.invokeFunction('convertToInteractive',\n",
              "                                                    [key], {});\n",
              "        if (!dataTable) return;\n",
              "\n",
              "        const docLinkHtml = 'Like what you see? Visit the ' +\n",
              "          '<a target=\"_blank\" href=https://colab.research.google.com/notebooks/data_table.ipynb>data table notebook</a>'\n",
              "          + ' to learn more about interactive tables.';\n",
              "        element.innerHTML = '';\n",
              "        dataTable['output_type'] = 'display_data';\n",
              "        await google.colab.output.renderOutput(dataTable, element);\n",
              "        const docLink = document.createElement('div');\n",
              "        docLink.innerHTML = docLinkHtml;\n",
              "        element.appendChild(docLink);\n",
              "      }\n",
              "    </script>\n",
              "  </div>\n",
              "\n",
              "\n",
              "<div id=\"df-816f20da-b749-4bff-8093-c32d42fb2834\">\n",
              "  <button class=\"colab-df-quickchart\" onclick=\"quickchart('df-816f20da-b749-4bff-8093-c32d42fb2834')\"\n",
              "            title=\"Suggest charts\"\n",
              "            style=\"display:none;\">\n",
              "\n",
              "<svg xmlns=\"http://www.w3.org/2000/svg\" height=\"24px\"viewBox=\"0 0 24 24\"\n",
              "     width=\"24px\">\n",
              "    <g>\n",
              "        <path d=\"M19 3H5c-1.1 0-2 .9-2 2v14c0 1.1.9 2 2 2h14c1.1 0 2-.9 2-2V5c0-1.1-.9-2-2-2zM9 17H7v-7h2v7zm4 0h-2V7h2v10zm4 0h-2v-4h2v4z\"/>\n",
              "    </g>\n",
              "</svg>\n",
              "  </button>\n",
              "\n",
              "<style>\n",
              "  .colab-df-quickchart {\n",
              "      --bg-color: #E8F0FE;\n",
              "      --fill-color: #1967D2;\n",
              "      --hover-bg-color: #E2EBFA;\n",
              "      --hover-fill-color: #174EA6;\n",
              "      --disabled-fill-color: #AAA;\n",
              "      --disabled-bg-color: #DDD;\n",
              "  }\n",
              "\n",
              "  [theme=dark] .colab-df-quickchart {\n",
              "      --bg-color: #3B4455;\n",
              "      --fill-color: #D2E3FC;\n",
              "      --hover-bg-color: #434B5C;\n",
              "      --hover-fill-color: #FFFFFF;\n",
              "      --disabled-bg-color: #3B4455;\n",
              "      --disabled-fill-color: #666;\n",
              "  }\n",
              "\n",
              "  .colab-df-quickchart {\n",
              "    background-color: var(--bg-color);\n",
              "    border: none;\n",
              "    border-radius: 50%;\n",
              "    cursor: pointer;\n",
              "    display: none;\n",
              "    fill: var(--fill-color);\n",
              "    height: 32px;\n",
              "    padding: 0;\n",
              "    width: 32px;\n",
              "  }\n",
              "\n",
              "  .colab-df-quickchart:hover {\n",
              "    background-color: var(--hover-bg-color);\n",
              "    box-shadow: 0 1px 2px rgba(60, 64, 67, 0.3), 0 1px 3px 1px rgba(60, 64, 67, 0.15);\n",
              "    fill: var(--button-hover-fill-color);\n",
              "  }\n",
              "\n",
              "  .colab-df-quickchart-complete:disabled,\n",
              "  .colab-df-quickchart-complete:disabled:hover {\n",
              "    background-color: var(--disabled-bg-color);\n",
              "    fill: var(--disabled-fill-color);\n",
              "    box-shadow: none;\n",
              "  }\n",
              "\n",
              "  .colab-df-spinner {\n",
              "    border: 2px solid var(--fill-color);\n",
              "    border-color: transparent;\n",
              "    border-bottom-color: var(--fill-color);\n",
              "    animation:\n",
              "      spin 1s steps(1) infinite;\n",
              "  }\n",
              "\n",
              "  @keyframes spin {\n",
              "    0% {\n",
              "      border-color: transparent;\n",
              "      border-bottom-color: var(--fill-color);\n",
              "      border-left-color: var(--fill-color);\n",
              "    }\n",
              "    20% {\n",
              "      border-color: transparent;\n",
              "      border-left-color: var(--fill-color);\n",
              "      border-top-color: var(--fill-color);\n",
              "    }\n",
              "    30% {\n",
              "      border-color: transparent;\n",
              "      border-left-color: var(--fill-color);\n",
              "      border-top-color: var(--fill-color);\n",
              "      border-right-color: var(--fill-color);\n",
              "    }\n",
              "    40% {\n",
              "      border-color: transparent;\n",
              "      border-right-color: var(--fill-color);\n",
              "      border-top-color: var(--fill-color);\n",
              "    }\n",
              "    60% {\n",
              "      border-color: transparent;\n",
              "      border-right-color: var(--fill-color);\n",
              "    }\n",
              "    80% {\n",
              "      border-color: transparent;\n",
              "      border-right-color: var(--fill-color);\n",
              "      border-bottom-color: var(--fill-color);\n",
              "    }\n",
              "    90% {\n",
              "      border-color: transparent;\n",
              "      border-bottom-color: var(--fill-color);\n",
              "    }\n",
              "  }\n",
              "</style>\n",
              "\n",
              "  <script>\n",
              "    async function quickchart(key) {\n",
              "      const quickchartButtonEl =\n",
              "        document.querySelector('#' + key + ' button');\n",
              "      quickchartButtonEl.disabled = true;  // To prevent multiple clicks.\n",
              "      quickchartButtonEl.classList.add('colab-df-spinner');\n",
              "      try {\n",
              "        const charts = await google.colab.kernel.invokeFunction(\n",
              "            'suggestCharts', [key], {});\n",
              "      } catch (error) {\n",
              "        console.error('Error during call to suggestCharts:', error);\n",
              "      }\n",
              "      quickchartButtonEl.classList.remove('colab-df-spinner');\n",
              "      quickchartButtonEl.classList.add('colab-df-quickchart-complete');\n",
              "    }\n",
              "    (() => {\n",
              "      let quickchartButtonEl =\n",
              "        document.querySelector('#df-816f20da-b749-4bff-8093-c32d42fb2834 button');\n",
              "      quickchartButtonEl.style.display =\n",
              "        google.colab.kernel.accessAllowed ? 'block' : 'none';\n",
              "    })();\n",
              "  </script>\n",
              "</div>\n",
              "\n",
              "    </div>\n",
              "  </div>\n"
            ]
          },
          "metadata": {},
          "execution_count": 18
        }
      ]
    },
    {
      "cell_type": "code",
      "source": [
        "data[\"LUNG_RECRUITMENT\"].describe()"
      ],
      "metadata": {
        "colab": {
          "base_uri": "https://localhost:8080/"
        },
        "id": "9c6o0DxbHEmM",
        "outputId": "2c32acfd-b678-4ab0-f621-4798d4bc2369"
      },
      "execution_count": 19,
      "outputs": [
        {
          "output_type": "execute_result",
          "data": {
            "text/plain": [
              "count     309\n",
              "unique      2\n",
              "top       YES\n",
              "freq      270\n",
              "Name: LUNG_RECRUITMENT, dtype: object"
            ]
          },
          "metadata": {},
          "execution_count": 19
        }
      ]
    },
    {
      "cell_type": "code",
      "source": [
        "X.head()\n",
        "X.info()"
      ],
      "metadata": {
        "colab": {
          "base_uri": "https://localhost:8080/"
        },
        "id": "9tR-4Ml0HIJL",
        "outputId": "f10d3016-2b80-47cc-fc86-f2aa71834d40"
      },
      "execution_count": 20,
      "outputs": [
        {
          "output_type": "stream",
          "name": "stdout",
          "text": [
            "<class 'pandas.core.frame.DataFrame'>\n",
            "RangeIndex: 309 entries, 0 to 308\n",
            "Data columns (total 15 columns):\n",
            " #   Column                 Non-Null Count  Dtype\n",
            "---  ------                 --------------  -----\n",
            " 0   GENDER                 309 non-null    int64\n",
            " 1   AGE                    309 non-null    int64\n",
            " 2   SMOKING                309 non-null    int64\n",
            " 3   YELLOW_FINGERS         309 non-null    int64\n",
            " 4   ANXIETY                309 non-null    int64\n",
            " 5   PEER_PRESSURE          309 non-null    int64\n",
            " 6   CHRONIC DISEASE        309 non-null    int64\n",
            " 7   FATIGUE                309 non-null    int64\n",
            " 8   ALLERGY                309 non-null    int64\n",
            " 9   WHEEZING               309 non-null    int64\n",
            " 10  ALCOHOL CONSUMING      309 non-null    int64\n",
            " 11  COUGHING               309 non-null    int64\n",
            " 12  SHORTNESS OF BREATH    309 non-null    int64\n",
            " 13  SWALLOWING DIFFICULTY  309 non-null    int64\n",
            " 14  CHEST PAIN             309 non-null    int64\n",
            "dtypes: int64(15)\n",
            "memory usage: 36.3 KB\n"
          ]
        }
      ]
    },
    {
      "cell_type": "code",
      "source": [
        "X_scaled = scaler.fit_transform(X)"
      ],
      "metadata": {
        "id": "vPGUM0wqHNZl"
      },
      "execution_count": 21,
      "outputs": []
    },
    {
      "cell_type": "code",
      "source": [
        "# Split data into training and testing sets\n",
        "X_train, X_test, y_train, y_test = train_test_split(X_scaled, y, test_size=0.3, random_state=42)"
      ],
      "metadata": {
        "id": "J5zcYIpXHUiY"
      },
      "execution_count": 22,
      "outputs": []
    },
    {
      "cell_type": "code",
      "source": [
        "# Random Forest Model\n",
        "rf_clf = RandomForestClassifier(n_estimators=100, random_state=42)  # Experiment with hyperparameters\n",
        "rf_clf.fit(X_train, y_train)\n",
        "y_pred_rf = rf_clf.predict(X_test)"
      ],
      "metadata": {
        "id": "pcuSICpGHbMJ"
      },
      "execution_count": 23,
      "outputs": []
    },
    {
      "cell_type": "code",
      "source": [
        "# Decision Tree Model\n",
        "dt_clf = DecisionTreeClassifier(max_depth=5)  # Experiment with hyperparameters\n",
        "dt_clf.fit(X_train, y_train)\n",
        "y_pred_dt = dt_clf.predict(X_test)"
      ],
      "metadata": {
        "id": "vhy1ef5PHh1r"
      },
      "execution_count": 24,
      "outputs": []
    },
    {
      "cell_type": "code",
      "source": [
        "# Assuming 'NO' is the negative class and 'YES' is the positive class\n",
        "positive_class_label = 'YES'\n",
        "\n",
        "print(\"Random Forest:\")\n",
        "score_rf = round(accuracy_score(y_test, y_pred_rf)*100,2)\n",
        "print(\"The accuracy score achieved using RF is: \"+str(score_rf)+\" %\")\n",
        "print(f\"Precision: {precision_score(y_test, y_pred_rf, pos_label=positive_class_label)}\")\n",
        "print(f\"Recall: {recall_score(y_test, y_pred_rf, pos_label=positive_class_label)}\")\n",
        "print(f\"F1-score: {f1_score(y_test, y_pred_rf, pos_label=positive_class_label)}\")\n"
      ],
      "metadata": {
        "colab": {
          "base_uri": "https://localhost:8080/"
        },
        "id": "FRQRti7DIXQM",
        "outputId": "5251e4f0-56d2-41c4-da39-3cd46e6b1c52"
      },
      "execution_count": 39,
      "outputs": [
        {
          "output_type": "stream",
          "name": "stdout",
          "text": [
            "Random Forest:\n",
            "The accuracy score achieved using RF is: 97.85 %\n",
            "Precision: 0.9883720930232558\n",
            "Recall: 0.9883720930232558\n",
            "F1-score: 0.9883720930232558\n"
          ]
        }
      ]
    },
    {
      "cell_type": "code",
      "source": [
        "# Assuming 'NO' is the negative class and 'YES' is the positive class\n",
        "positive_class_label = 'YES'\n",
        "\n",
        "print(\"\\nDecision Tree:\")\n",
        "score_dt = round(accuracy_score(y_test, y_pred_dt)*100,2)\n",
        "print(\"The accuracy score achieved using DT is: \"+str(score_dt)+\" %\")\n",
        "print(f\"Precision: {precision_score(y_test, y_pred_dt, pos_label=positive_class_label)}\")\n",
        "print(f\"Recall: {recall_score(y_test, y_pred_dt, pos_label=positive_class_label)}\")\n",
        "print(f\"F1-score: {f1_score(y_test, y_pred_dt, pos_label=positive_class_label)}\")\n"
      ],
      "metadata": {
        "colab": {
          "base_uri": "https://localhost:8080/"
        },
        "id": "1rtqxAP7I392",
        "outputId": "6bf341b0-0475-4891-fe86-ed8d63739eae"
      },
      "execution_count": 40,
      "outputs": [
        {
          "output_type": "stream",
          "name": "stdout",
          "text": [
            "\n",
            "Decision Tree:\n",
            "The accuracy score achieved using DT is: 92.47 %\n",
            "Precision: 0.9876543209876543\n",
            "Recall: 0.9302325581395349\n",
            "F1-score: 0.9580838323353293\n"
          ]
        }
      ]
    },
    {
      "cell_type": "code",
      "source": [
        "from sklearn.model_selection import GridSearchCV\n",
        "from sklearn.ensemble import RandomForestClassifier\n",
        "\n",
        "# Define the parameter grid\n",
        "param_grid = {\n",
        "    'n_estimators': [10, 50, 100, 200],\n",
        "    'max_depth': [3, 5, 7, None],\n",
        "    'min_samples_split': [2, 5, 10],\n",
        "    'min_samples_leaf': [1, 2, 4]\n",
        "}\n",
        "\n",
        "# Create a Random Forest classifier with cross-validation\n",
        "rf_clf = RandomForestClassifier(random_state=42)\n",
        "clf = GridSearchCV(rf_clf, param_grid, cv=5)\n",
        "\n",
        "# Fit the model with cross-validation\n",
        "clf.fit(X_train, y_train)\n",
        "\n",
        "# Print the best parameters and performance\n",
        "print(f\"Best parameters: {clf.best_params_}\")\n",
        "print(f\"Best score: {clf.best_score_}\")\n"
      ],
      "metadata": {
        "colab": {
          "base_uri": "https://localhost:8080/"
        },
        "id": "fwwBsZEjJk5p",
        "outputId": "484a8be2-44a3-4811-bbdc-9b41125c02a2"
      },
      "execution_count": 30,
      "outputs": [
        {
          "output_type": "stream",
          "name": "stdout",
          "text": [
            "Best parameters: {'max_depth': 7, 'min_samples_leaf': 1, 'min_samples_split': 5, 'n_estimators': 10}\n",
            "Best score: 0.8892177589852007\n"
          ]
        }
      ]
    },
    {
      "cell_type": "code",
      "source": [
        "from sklearn.model_selection import cross_val_score\n"
      ],
      "metadata": {
        "id": "eM5HK0ssLS2X"
      },
      "execution_count": 32,
      "outputs": []
    },
    {
      "cell_type": "code",
      "source": [
        "# Assuming X_train and y_train are your training data and labels\n",
        "# Perform cross-validation for different n_estimators values\n",
        "n_estimators_values = list(range(1, 15))  # You can adjust the range based on your preference\n",
        "cv_scores = []\n",
        "\n",
        "for n_estimators in n_estimators_values:\n",
        "    rf = RandomForestClassifier(n_estimators=n_estimators, random_state=42)\n",
        "    scores = cross_val_score(rf, X_train, y_train, cv=5, scoring='accuracy')  # 5-fold cross-validation\n",
        "    cv_scores.append(np.mean(scores))\n",
        "\n",
        "# Find the optimal n_estimators value with the highest cross-validated accuracy\n",
        "optimal_n_estimators = n_estimators_values[np.argmax(cv_scores)]\n",
        "print(f\"The optimal n_estimators value is: {optimal_n_estimators}\")\n",
        "\n",
        "# Plotting the cross-validated accuracy for different n_estimators values (optional)\n",
        "plt.plot(n_estimators_values, cv_scores)\n",
        "plt.xlabel('Iteration')\n",
        "plt.ylabel('Accuracy')\n",
        "plt.title('Random Forest')\n",
        "plt.show()"
      ],
      "metadata": {
        "colab": {
          "base_uri": "https://localhost:8080/",
          "height": 489
        },
        "id": "lpSJJ5oRLgew",
        "outputId": "55d98b83-d40b-41ad-f65e-cfd3d9c41e32"
      },
      "execution_count": 35,
      "outputs": [
        {
          "output_type": "stream",
          "name": "stdout",
          "text": [
            "The optimal n_estimators value is: 7\n"
          ]
        },
        {
          "output_type": "display_data",
          "data": {
            "text/plain": [
              "<Figure size 640x480 with 1 Axes>"
            ],
            "image/png": "[encoded data removed]"
          },
          "metadata": {}
        }
      ]
    },
    {
      "cell_type": "code",
      "source": [
        "from sklearn.tree import DecisionTreeClassifier\n",
        "import numpy as np\n",
        "import matplotlib.pyplot as plt\n",
        "\n",
        "# Assuming X_train and y_train are your training data and labels\n",
        "# Perform cross-validation for different max_depth values\n",
        "max_depth_values = list(range(1, 15))  # You can adjust the range based on your preference\n",
        "cv_scores = []\n",
        "\n",
        "for max_depth in max_depth_values:\n",
        "    dt = DecisionTreeClassifier(max_depth=max_depth, random_state=42)\n",
        "    scores = cross_val_score(dt, X_train, y_train, cv=5, scoring='accuracy')  # 5-fold cross-validation\n",
        "    cv_scores.append(np.mean(scores))\n",
        "\n",
        "# Find the optimal max_depth value with the highest cross-validated accuracy\n",
        "optimal_max_depth = max_depth_values[np.argmax(cv_scores)]\n",
        "print(f\"The optimal max_depth value is: {optimal_max_depth}\")\n",
        "\n",
        "# Plotting the cross-validated accuracy for different max_depth values (optional)\n",
        "plt.plot(max_depth_values, cv_scores)\n",
        "plt.xlabel('Iteration')\n",
        "plt.ylabel('Accuracy')\n",
        "plt.title('Decision Tree')\n",
        "plt.show()\n"
      ],
      "metadata": {
        "colab": {
          "base_uri": "https://localhost:8080/",
          "height": 489
        },
        "id": "e-K5rdE_NOiA",
        "outputId": "89b2be89-5bcf-4b45-f8bc-abe6c5938925"
      },
      "execution_count": 36,
      "outputs": [
        {
          "output_type": "stream",
          "name": "stdout",
          "text": [
            "The optimal max_depth value is: 1\n"
          ]
        },
        {
          "output_type": "display_data",
          "data": {
            "text/plain": [
              "<Figure size 640x480 with 1 Axes>"
            ],
            "image/png": "[encoded data removed]"
          },
          "metadata": {}
        }
      ]
    },
    {
      "cell_type": "code",
      "source": [
        "import matplotlib.pyplot as plt\n",
        "import numpy as np\n",
        "from sklearn.ensemble import RandomForestClassifier\n",
        "from sklearn.tree import DecisionTreeClassifier\n",
        "from sklearn.model_selection import cross_val_score\n",
        "\n",
        "# Assuming X_train and y_train are your training data and labels\n",
        "\n",
        "# Define the parameter values to evaluate\n",
        "parameter_values = list(range(1, 20))  # You can adjust the range based on your preference\n",
        "\n",
        "# Initialize lists to store performance metrics for Random Forest and Decision Tree\n",
        "rf_accuracy_scores = []\n",
        "dt_accuracy_scores = []\n",
        "\n",
        "# Evaluate models for each parameter value\n",
        "for param_value in parameter_values:\n",
        "    # Random Forest\n",
        "    rf = RandomForestClassifier(n_estimators=param_value, random_state=42)\n",
        "    rf_scores = cross_val_score(rf, X_train, y_train, cv=5, scoring='accuracy')\n",
        "    rf_accuracy_scores.append(np.mean(rf_scores))\n",
        "\n",
        "    # Decision Tree\n",
        "    dt = DecisionTreeClassifier(max_depth=param_value, random_state=42)\n",
        "    dt_scores = cross_val_score(dt, X_train, y_train, cv=5, scoring='accuracy')\n",
        "    dt_accuracy_scores.append(np.mean(dt_scores))\n",
        "\n",
        "# Plotting the performance metrics\n",
        "plt.figure(figsize=(10, 6))\n",
        "\n",
        "# Plot Random Forest performance\n",
        "plt.plot(parameter_values, rf_accuracy_scores, label='Random Forest', marker='o')\n",
        "\n",
        "# Plot Decision Tree performance\n",
        "plt.plot(parameter_values, dt_accuracy_scores, label='Decision Tree', marker='x')\n",
        "\n",
        "plt.xlabel('Parameter Value')\n",
        "plt.ylabel('Accuracy')\n",
        "plt.title('Performance Comparison: Random Forest vs Decision Tree')\n",
        "plt.legend()\n",
        "plt.grid(True)\n",
        "plt.show()\n"
      ],
      "metadata": {
        "colab": {
          "base_uri": "https://localhost:8080/",
          "height": 445
        },
        "id": "llEQZUdLOC-A",
        "outputId": "908c4918-f9b0-42e6-9f44-55f9628ca58e"
      },
      "execution_count": 37,
      "outputs": [
        {
          "output_type": "display_data",
          "data": {
            "text/plain": [
              "<Figure size 1000x600 with 1 Axes>"
            ],
            "image/png": "[encoded data removed]"
          },
          "metadata": {}
        }
      ]
    },
    {
      "cell_type": "code",
      "source": [
        "scores = [score_rf,score_dt]\n",
        "algorithms = [\"Random Forest\",\"Decision Tree\"]\n",
        "\n",
        "for i in range(len(algorithms)):\n",
        "    print(\"The accuracy score achieved using \"+algorithms[i]+\" is: \"+str(scores[i])+\" %\")"
      ],
      "metadata": {
        "colab": {
          "base_uri": "https://localhost:8080/"
        },
        "id": "2rUGgaYDPgR-",
        "outputId": "125c1d51-e289-4073-e437-f8cc96c6c16f"
      },
      "execution_count": 41,
      "outputs": [
        {
          "output_type": "stream",
          "name": "stdout",
          "text": [
            "The accuracy score achieved using Random Forest is: 97.85 %\n",
            "The accuracy score achieved using Decision Tree is: 92.47 %\n"
          ]
        }
      ]
    },
    {
      "cell_type": "code",
      "source": [
        "import seaborn as sns"
      ],
      "metadata": {
        "id": "MgSkoMJDQh_S"
      },
      "execution_count": 42,
      "outputs": []
    },
    {
      "cell_type": "code",
      "source": [
        "# Install the matplotlib module if necessary\n",
        "!pip install matplotlib\n",
        "\n",
        "# Import the matplotlib.pyplot module\n",
        "import matplotlib.pyplot as plt\n",
        "\n",
        "# Set the figure size\n",
        "sns.set(rc={'figure.figsize':(15,8)})\n",
        "\n",
        "# Set the x-axis label\n",
        "plt.xlabel(\"Algorithms\")\n",
        "\n",
        "# Set the y-axis label\n",
        "plt.ylabel(\"Accuracy score\")\n",
        "\n",
        "# Create a bar plot\n",
        "sns.barplot(x=algorithms, y=scores)"
      ],
      "metadata": {
        "colab": {
          "base_uri": "https://localhost:8080/",
          "height": 614
        },
        "id": "zsvjeOS-QlAU",
        "outputId": "660f3db4-4912-40c6-8b6d-fa6bbb9fabc3"
      },
      "execution_count": 43,
      "outputs": [
        {
          "output_type": "stream",
          "name": "stdout",
          "text": [
            "Requirement already satisfied: matplotlib in /usr/local/lib/python3.10/dist-packages (3.7.1)\n",
            "Requirement already satisfied: contourpy>=1.0.1 in /usr/local/lib/python3.10/dist-packages (from matplotlib) (1.2.0)\n",
            "Requirement already satisfied: cycler>=0.10 in /usr/local/lib/python3.10/dist-packages (from matplotlib) (0.12.1)\n",
            "Requirement already satisfied: fonttools>=4.22.0 in /usr/local/lib/python3.10/dist-packages (from matplotlib) (4.48.1)\n",
            "Requirement already satisfied: kiwisolver>=1.0.1 in /usr/local/lib/python3.10/dist-packages (from matplotlib) (1.4.5)\n",
            "Requirement already satisfied: numpy>=1.20 in /usr/local/lib/python3.10/dist-packages (from matplotlib) (1.23.5)\n",
            "Requirement already satisfied: packaging>=20.0 in /usr/local/lib/python3.10/dist-packages (from matplotlib) (23.2)\n",
            "Requirement already satisfied: pillow>=6.2.0 in /usr/local/lib/python3.10/dist-packages (from matplotlib) (9.4.0)\n",
            "Requirement already satisfied: pyparsing>=2.3.1 in /usr/local/lib/python3.10/dist-packages (from matplotlib) (3.1.1)\n",
            "Requirement already satisfied: python-dateutil>=2.7 in /usr/local/lib/python3.10/dist-packages (from matplotlib) (2.8.2)\n",
            "Requirement already satisfied: six>=1.5 in /usr/local/lib/python3.10/dist-packages (from python-dateutil>=2.7->matplotlib) (1.16.0)\n"
          ]
        },
        {
          "output_type": "execute_result",
          "data": {
            "text/plain": [
              "<Axes: xlabel='Algorithms', ylabel='Accuracy score'>"
            ]
          },
          "metadata": {},
          "execution_count": 43
        },
        {
          "output_type": "display_data",
          "data": {
            "text/plain": [
              "<Figure size 1500x800 with 1 Axes>"
            ],
            "image/png": "[encoded data removed]"
          },
          "metadata": {}
        }
      ]
    }
  ]
}