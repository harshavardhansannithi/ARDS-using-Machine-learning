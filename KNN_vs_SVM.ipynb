{
  "nbformat": 4,
  "nbformat_minor": 0,
  "metadata": {
    "colab": {
      "provenance": [],
      "mount_file_id": "1tv4uEeCuqVXhPBrjT3xKyLEcQelw5_mW",
      "authorship_tag": "ABX9TyNDpw91JYpXpNLoJ/XmLWEx",
      "include_colab_link": true
    },
    "kernelspec": {
      "name": "python3",
      "display_name": "Python 3"
    },
    "language_info": {
      "name": "python"
    }
  },
  "cells": [
    {
      "cell_type": "markdown",
      "metadata": {
        "id": "view-in-github",
        "colab_type": "text"
      },
      "source": [
        "<a href=\"https://colab.research.google.com/github/harshavardhansannithi/ARDS-using-Machine-learning/blob/main/KNN_vs_SVM.ipynb\" target=\"_parent\"><img src=\"https://colab.research.google.com/assets/colab-badge.svg\" alt=\"Open In Colab\"/></a>"
      ]
    },
    {
      "cell_type": "code",
      "execution_count": 19,
      "metadata": {
        "id": "wPFEmHPgmdOR"
      },
      "outputs": [],
      "source": [
        "\n",
        "import pandas as pd\n",
        "from sklearn.model_selection import train_test_split\n",
        "from sklearn.neighbors import KNeighborsClassifier\n",
        "from sklearn.svm import SVC\n",
        "from sklearn.metrics import accuracy_score, precision_score, recall_score, f1_score"
      ]
    },
    {
      "cell_type": "code",
      "source": [
        "# Load your dataset (replace with your actual data)\n",
        "data = pd.read_csv(\"/content/drive/MyDrive/survey lung cancer.csv\")\n"
      ],
      "metadata": {
        "id": "nKPmiKUlm0z0"
      },
      "execution_count": 2,
      "outputs": []
    },
    {
      "cell_type": "code",
      "source": [
        "# Separate features and target variable\n",
        "X = data.drop(\"LUNG_RECRUITMENT\", axis=1)\n",
        "y = data[\"LUNG_RECRUITMENT\"]"
      ],
      "metadata": {
        "id": "Z13xNEsLnb6n"
      },
      "execution_count": 3,
      "outputs": []
    },
    {
      "cell_type": "code",
      "source": [
        "# Feature scaling (optional)\n",
        "from sklearn.preprocessing import StandardScaler, LabelEncoder\n",
        "\n",
        "# Assuming 'column_name' is the column containing string values\n",
        "le = LabelEncoder()\n",
        "X['GENDER'] = le.fit_transform(X['GENDER'])\n",
        "\n",
        "scaler = StandardScaler()\n",
        "X_scaled = scaler.fit_transform(X)\n"
      ],
      "metadata": {
        "id": "1iHqZoZ5n81C"
      },
      "execution_count": 11,
      "outputs": []
    },
    {
      "cell_type": "code",
      "source": [
        "!pip install pandas"
      ],
      "metadata": {
        "colab": {
          "base_uri": "https://localhost:8080/"
        },
        "id": "nFFCggJPoPLs",
        "outputId": "26753c7a-8a5a-4cd3-a3fc-ffa380f2c9f1"
      },
      "execution_count": 5,
      "outputs": [
        {
          "output_type": "stream",
          "name": "stdout",
          "text": [
            "Requirement already satisfied: pandas in /usr/local/lib/python3.10/dist-packages (1.5.3)\n",
            "Requirement already satisfied: python-dateutil>=2.8.1 in /usr/local/lib/python3.10/dist-packages (from pandas) (2.8.2)\n",
            "Requirement already satisfied: pytz>=2020.1 in /usr/local/lib/python3.10/dist-packages (from pandas) (2023.4)\n",
            "Requirement already satisfied: numpy>=1.21.0 in /usr/local/lib/python3.10/dist-packages (from pandas) (1.23.5)\n",
            "Requirement already satisfied: six>=1.5 in /usr/local/lib/python3.10/dist-packages (from python-dateutil>=2.8.1->pandas) (1.16.0)\n"
          ]
        }
      ]
    },
    {
      "cell_type": "code",
      "source": [
        "import pandas as pd"
      ],
      "metadata": {
        "id": "TyeQu6euoTOz"
      },
      "execution_count": 6,
      "outputs": []
    },
    {
      "cell_type": "code",
      "source": [
        "X = pd.DataFrame(X)"
      ],
      "metadata": {
        "id": "ItBpwOixoVwE"
      },
      "execution_count": 7,
      "outputs": []
    },
    {
      "cell_type": "code",
      "source": [
        "X.head()\n",
        "X.info()"
      ],
      "metadata": {
        "colab": {
          "base_uri": "https://localhost:8080/"
        },
        "id": "LgE8xjo_ocjP",
        "outputId": "41038f85-5013-45b8-f16a-0b593bad3875"
      },
      "execution_count": 13,
      "outputs": [
        {
          "output_type": "stream",
          "name": "stdout",
          "text": [
            "<class 'pandas.core.frame.DataFrame'>\n",
            "RangeIndex: 309 entries, 0 to 308\n",
            "Data columns (total 15 columns):\n",
            " #   Column                 Non-Null Count  Dtype\n",
            "---  ------                 --------------  -----\n",
            " 0   GENDER                 309 non-null    int64\n",
            " 1   AGE                    309 non-null    int64\n",
            " 2   SMOKING                309 non-null    int64\n",
            " 3   YELLOW_FINGERS         309 non-null    int64\n",
            " 4   ANXIETY                309 non-null    int64\n",
            " 5   PEER_PRESSURE          309 non-null    int64\n",
            " 6   CHRONIC DISEASE        309 non-null    int64\n",
            " 7   FATIGUE                309 non-null    int64\n",
            " 8   ALLERGY                309 non-null    int64\n",
            " 9   WHEEZING               309 non-null    int64\n",
            " 10  ALCOHOL CONSUMING      309 non-null    int64\n",
            " 11  COUGHING               309 non-null    int64\n",
            " 12  SHORTNESS OF BREATH    309 non-null    int64\n",
            " 13  SWALLOWING DIFFICULTY  309 non-null    int64\n",
            " 14  CHEST PAIN             309 non-null    int64\n",
            "dtypes: int64(15)\n",
            "memory usage: 36.3 KB\n"
          ]
        }
      ]
    },
    {
      "cell_type": "code",
      "source": [
        "X_scaled = scaler.fit_transform(X)"
      ],
      "metadata": {
        "id": "3Izm0lXqogQR"
      },
      "execution_count": 12,
      "outputs": []
    },
    {
      "cell_type": "code",
      "source": [
        "# Split data into training and testing sets\n",
        "X_train, X_test, y_train, y_test = train_test_split(X_scaled, y, test_size=0.2, random_state=42)"
      ],
      "metadata": {
        "id": "tRDzrNTeqe6f"
      },
      "execution_count": 14,
      "outputs": []
    },
    {
      "cell_type": "code",
      "source": [
        "# KNN Model\n",
        "knn_clf = KNeighborsClassifier(n_neighbors=5)  # Experiment with different k values\n",
        "knn_clf.fit(X_train, y_train)\n",
        "y_pred_knn = knn_clf.predict(X_test)\n"
      ],
      "metadata": {
        "id": "ORjf4v8Oqr7t"
      },
      "execution_count": 15,
      "outputs": []
    },
    {
      "cell_type": "code",
      "source": [
        "# SVM Model\n",
        "svm_clf = SVC(kernel='rbf')  # Experiment with different kernels and parameters\n",
        "svm_clf.fit(X_train, y_train)\n",
        "y_pred_svm = svm_clf.predict(X_test)"
      ],
      "metadata": {
        "id": "YhU5gfZiq0OF"
      },
      "execution_count": 16,
      "outputs": []
    },
    {
      "cell_type": "code",
      "source": [
        "from sklearn.metrics import accuracy_score, precision_score, recall_score, f1_score\n",
        "\n",
        "# Assuming your labels are 'NO' and 'YES'\n",
        "pos_label = 'YES'\n",
        "\n",
        "print(\"KNN:\")\n",
        "print(f\"Accuracy: {accuracy_score(y_test, y_pred_knn)}\")\n",
        "print(f\"Precision: {precision_score(y_test, y_pred_knn, pos_label=pos_label)}\")\n",
        "print(f\"Recall: {recall_score(y_test, y_pred_knn, pos_label=pos_label)}\")\n",
        "print(f\"F1-score: {f1_score(y_test, y_pred_knn, pos_label=pos_label)}\")\n",
        "\n"
      ],
      "metadata": {
        "colab": {
          "base_uri": "https://localhost:8080/"
        },
        "id": "4Wr-WGl1q9tK",
        "outputId": "93c27d41-1ebc-4f09-f612-879366510846"
      },
      "execution_count": 18,
      "outputs": [
        {
          "output_type": "stream",
          "name": "stdout",
          "text": [
            "KNN:\n",
            "Accuracy: 0.9354838709677419\n",
            "Precision: 0.9827586206896551\n",
            "Recall: 0.95\n",
            "F1-score: 0.9661016949152542\n"
          ]
        }
      ]
    },
    {
      "cell_type": "code",
      "source": [
        "from sklearn.metrics import accuracy_score, precision_score, recall_score, f1_score\n",
        "\n",
        "# Assuming 'NO' is the positive label\n",
        "pos_label = 'YES'\n",
        "\n",
        "print(\"\\nSVM:\")\n",
        "print(f\"Accuracy: {accuracy_score(y_test, y_pred_svm)}\")\n",
        "print(f\"Precision: {precision_score(y_test, y_pred_svm, pos_label=pos_label)}\")\n",
        "print(f\"Recall: {recall_score(y_test, y_pred_svm, pos_label=pos_label)}\")\n",
        "print(f\"F1-score: {f1_score(y_test, y_pred_svm, pos_label=pos_label)}\")\n",
        "\n"
      ],
      "metadata": {
        "colab": {
          "base_uri": "https://localhost:8080/"
        },
        "id": "Bb6OiZY5t1as",
        "outputId": "e877cc19-9fb8-40bf-c078-1a34df279e22"
      },
      "execution_count": 22,
      "outputs": [
        {
          "output_type": "stream",
          "name": "stdout",
          "text": [
            "\n",
            "SVM:\n",
            "Accuracy: 0.967741935483871\n",
            "Precision: 0.9833333333333333\n",
            "Recall: 0.9833333333333333\n",
            "F1-score: 0.9833333333333333\n"
          ]
        }
      ]
    }
  ]
}