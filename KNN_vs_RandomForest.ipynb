{
  "nbformat": 4,
  "nbformat_minor": 0,
  "metadata": {
    "colab": {
      "provenance": [],
      "mount_file_id": "1CHTWB4HZC9JcSYoxlIx4Gr_vJlTXrvuS",
      "authorship_tag": "ABX9TyOxnN2dafGzNQcGOLa9Qt48",
      "include_colab_link": true
    },
    "kernelspec": {
      "name": "python3",
      "display_name": "Python 3"
    },
    "language_info": {
      "name": "python"
    }
  },
  "cells": [
    {
      "cell_type": "markdown",
      "metadata": {
        "id": "view-in-github",
        "colab_type": "text"
      },
      "source": [
        "<a href=\"https://colab.research.google.com/github/harshavardhansannithi/ARDS-using-Machine-learning/blob/main/KNN_vs_RandomForest.ipynb\" target=\"_parent\"><img src=\"https://colab.research.google.com/assets/colab-badge.svg\" alt=\"Open In Colab\"/></a>"
      ]
    },
    {
      "cell_type": "code",
      "execution_count": 1,
      "metadata": {
        "id": "RwccbacT5kSQ"
      },
      "outputs": [],
      "source": [
        "import pandas as pd\n",
        "from sklearn.model_selection import train_test_split\n",
        "from sklearn.neighbors import KNeighborsClassifier\n",
        "from sklearn.ensemble import RandomForestClassifier\n",
        "from sklearn.metrics import accuracy_score, precision_score, recall_score, f1_score"
      ]
    },
    {
      "cell_type": "code",
      "source": [
        "# Load your dataset (replace with your actual data)\n",
        "data = pd.read_csv(\"/content/drive/MyDrive/survey lung cancer.csv\")"
      ],
      "metadata": {
        "id": "nzFjDOC79RvB"
      },
      "execution_count": 2,
      "outputs": []
    },
    {
      "cell_type": "code",
      "source": [
        "# Separate features and target variable\n",
        "X = data.drop(\"LUNG_RECRUITMENT\", axis=1)\n",
        "y = data[\"LUNG_RECRUITMENT\"]"
      ],
      "metadata": {
        "id": "t7b2X1B19v_X"
      },
      "execution_count": 3,
      "outputs": []
    },
    {
      "cell_type": "code",
      "source": [
        "# Feature scaling (optional)\n",
        "from sklearn.preprocessing import StandardScaler, LabelEncoder\n",
        "\n",
        "# Assuming 'column_name' is the column containing string values\n",
        "le = LabelEncoder()\n",
        "X['GENDER'] = le.fit_transform(X['GENDER'])\n",
        "\n",
        "scaler = StandardScaler()\n",
        "X_scaled = scaler.fit_transform(X)"
      ],
      "metadata": {
        "id": "p6DhGx6V-C1r"
      },
      "execution_count": 5,
      "outputs": []
    },
    {
      "cell_type": "code",
      "source": [
        "import pandas as pd"
      ],
      "metadata": {
        "id": "XXVjCGxr-RkR"
      },
      "execution_count": 6,
      "outputs": []
    },
    {
      "cell_type": "code",
      "source": [
        "X = pd.DataFrame(X)"
      ],
      "metadata": {
        "id": "XjX_Ewhs-Uf_"
      },
      "execution_count": 7,
      "outputs": []
    },
    {
      "cell_type": "code",
      "source": [
        "X.head()\n",
        "X.info()"
      ],
      "metadata": {
        "colab": {
          "base_uri": "https://localhost:8080/"
        },
        "id": "dFE-lXpl-YRn",
        "outputId": "2e64fbac-c08a-48e1-ff2f-2bb9dcee59bb"
      },
      "execution_count": 8,
      "outputs": [
        {
          "output_type": "stream",
          "name": "stdout",
          "text": [
            "<class 'pandas.core.frame.DataFrame'>\n",
            "RangeIndex: 309 entries, 0 to 308\n",
            "Data columns (total 15 columns):\n",
            " #   Column                 Non-Null Count  Dtype\n",
            "---  ------                 --------------  -----\n",
            " 0   GENDER                 309 non-null    int64\n",
            " 1   AGE                    309 non-null    int64\n",
            " 2   SMOKING                309 non-null    int64\n",
            " 3   YELLOW_FINGERS         309 non-null    int64\n",
            " 4   ANXIETY                309 non-null    int64\n",
            " 5   PEER_PRESSURE          309 non-null    int64\n",
            " 6   CHRONIC DISEASE        309 non-null    int64\n",
            " 7   FATIGUE                309 non-null    int64\n",
            " 8   ALLERGY                309 non-null    int64\n",
            " 9   WHEEZING               309 non-null    int64\n",
            " 10  ALCOHOL CONSUMING      309 non-null    int64\n",
            " 11  COUGHING               309 non-null    int64\n",
            " 12  SHORTNESS OF BREATH    309 non-null    int64\n",
            " 13  SWALLOWING DIFFICULTY  309 non-null    int64\n",
            " 14  CHEST PAIN             309 non-null    int64\n",
            "dtypes: int64(15)\n",
            "memory usage: 36.3 KB\n"
          ]
        }
      ]
    },
    {
      "cell_type": "code",
      "source": [
        "X_scaled = scaler.fit_transform(X)"
      ],
      "metadata": {
        "id": "IhqNxtvV-dMB"
      },
      "execution_count": 9,
      "outputs": []
    },
    {
      "cell_type": "code",
      "source": [
        "# Split data into training and testing sets\n",
        "X_train, X_test, y_train, y_test = train_test_split(X_scaled, y, test_size=0.33, random_state=42)"
      ],
      "metadata": {
        "id": "xXmVqMkI-iZ7"
      },
      "execution_count": 10,
      "outputs": []
    },
    {
      "cell_type": "code",
      "source": [
        "# KNN Model\n",
        "knn_clf = KNeighborsClassifier(n_neighbors=5)  # Experiment with different k values\n",
        "knn_clf.fit(X_train, y_train)\n",
        "y_pred_knn = knn_clf.predict(X_test)"
      ],
      "metadata": {
        "id": "SbnHmcfL-ted"
      },
      "execution_count": 11,
      "outputs": []
    },
    {
      "cell_type": "code",
      "source": [
        "# Random Forest Model\n",
        "rf_clf = RandomForestClassifier(n_estimators=100, random_state=42)  # Experiment with hyperparameters\n",
        "rf_clf.fit(X_train, y_train)\n",
        "y_pred_rf = rf_clf.predict(X_test)"
      ],
      "metadata": {
        "id": "t-K7wbss-ym5"
      },
      "execution_count": 12,
      "outputs": []
    },
    {
      "cell_type": "code",
      "source": [
        "from sklearn.metrics import accuracy_score, precision_score, recall_score, f1_score\n",
        "\n",
        "# Assuming 'YES' is your positive label\n",
        "pos_label = 'YES'\n",
        "\n",
        "# ... (Load data, split, train models) ...\n",
        "\n",
        "# KNN model\n",
        "knn = KNeighborsClassifier(n_neighbors=5)\n",
        "knn.fit(X_train, y_train)\n",
        "y_pred_knn = knn.predict(X_test)\n",
        "\n",
        "# Evaluation metrics\n",
        "print(\"KNN:\")\n",
        "print(f\"Accuracy: {accuracy_score(y_test, y_pred_knn)}\")\n",
        "print(f\"Precision: {precision_score(y_test, y_pred_knn, pos_label=pos_label)}\")\n",
        "print(f\"Recall: {recall_score(y_test, y_pred_knn, pos_label=pos_label)}\")\n",
        "print(f\"F1-score: {f1_score(y_test, y_pred_knn, pos_label=pos_label)}\")\n",
        "\n",
        "# ... (Other code) ...\n",
        "\n"
      ],
      "metadata": {
        "colab": {
          "base_uri": "https://localhost:8080/"
        },
        "id": "YzpKwM0K-32N",
        "outputId": "216aaa60-1cb1-49bb-cbd9-daacd30c36ce"
      },
      "execution_count": 15,
      "outputs": [
        {
          "output_type": "stream",
          "name": "stdout",
          "text": [
            "KNN:\n",
            "Accuracy: 0.9411764705882353\n",
            "Precision: 0.968421052631579\n",
            "Recall: 0.968421052631579\n",
            "F1-score: 0.968421052631579\n"
          ]
        }
      ]
    },
    {
      "cell_type": "code",
      "source": [
        "from sklearn.metrics import accuracy_score, precision_score, recall_score, f1_score\n",
        "\n",
        "# Assuming 'YES' is your positive label\n",
        "pos_label = 'YES'\n",
        "\n",
        "# ... (Load data, split, train models) ...\n",
        "\n",
        "# Random Forest model\n",
        "rf = RandomForestClassifier(n_estimators=100, random_state=42)  # You can adjust the parameters\n",
        "rf.fit(X_train, y_train)\n",
        "y_pred_rf = rf.predict(X_test)\n",
        "\n",
        "# Evaluation metrics\n",
        "print(\"\\nRandom Forest:\")\n",
        "print(f\"Accuracy: {accuracy_score(y_test, y_pred_rf)}\")\n",
        "print(f\"Precision: {precision_score(y_test, y_pred_rf, pos_label=pos_label)}\")\n",
        "print(f\"Recall: {recall_score(y_test, y_pred_rf, pos_label=pos_label)}\")\n",
        "print(f\"F1-score: {f1_score(y_test, y_pred_rf, pos_label=pos_label)}\")\n",
        "\n",
        "# ... (Other code) ...\n"
      ],
      "metadata": {
        "colab": {
          "base_uri": "https://localhost:8080/"
        },
        "id": "X0CAYfSp_Za6",
        "outputId": "d7bc8c06-9945-41ba-c018-49fa0c237672"
      },
      "execution_count": 17,
      "outputs": [
        {
          "output_type": "stream",
          "name": "stdout",
          "text": [
            "\n",
            "Random Forest:\n",
            "Accuracy: 0.9803921568627451\n",
            "Precision: 0.9894736842105263\n",
            "Recall: 0.9894736842105263\n",
            "F1-score: 0.9894736842105263\n"
          ]
        }
      ]
    }
  ]
}