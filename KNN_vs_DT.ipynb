{
  "nbformat": 4,
  "nbformat_minor": 0,
  "metadata": {
    "colab": {
      "provenance": [],
      "mount_file_id": "1WsOGDwvBQBpiCULMvs01FBUO4XnuC7dV",
      "authorship_tag": "ABX9TyPuQV1yoXQkjfXTBY4c4Vnv",
      "include_colab_link": true
    },
    "kernelspec": {
      "name": "python3",
      "display_name": "Python 3"
    },
    "language_info": {
      "name": "python"
    }
  },
  "cells": [
    {
      "cell_type": "markdown",
      "metadata": {
        "id": "view-in-github",
        "colab_type": "text"
      },
      "source": [
        "<a href=\"https://colab.research.google.com/github/harshavardhansannithi/ARDS-using-Machine-learning/blob/main/KNN_vs_DT.ipynb\" target=\"_parent\"><img src=\"https://colab.research.google.com/assets/colab-badge.svg\" alt=\"Open In Colab\"/></a>"
      ]
    },
    {
      "cell_type": "code",
      "execution_count": 6,
      "metadata": {
        "colab": {
          "base_uri": "https://localhost:8080/"
        },
        "id": "GDI7KyvUatwR",
        "outputId": "88113c91-c433-4bff-c2ea-77f99a445551"
      },
      "outputs": [
        {
          "output_type": "stream",
          "name": "stdout",
          "text": [
            "KNN:\n",
            "Precision: 0.9651162790697675\n",
            "Recall: 0.9651162790697675\n",
            "F1-score: 0.9651162790697675\n",
            "The accuracy score achieved using KNN is: 93.55 %\n",
            "\n",
            "Decision Tree:\n",
            "Precision: 0.9876543209876543\n",
            "Recall: 0.9302325581395349\n",
            "F1-score: 0.9580838323353293\n",
            "The accuracy score achieved using KNN is: 92.47 %\n"
          ]
        }
      ],
      "source": [
        "import pandas as pd\n",
        "from sklearn.model_selection import train_test_split\n",
        "from sklearn.neighbors import KNeighborsClassifier\n",
        "from sklearn.tree import DecisionTreeClassifier\n",
        "from sklearn.metrics import accuracy_score, precision_score, recall_score, f1_score\n",
        "\n",
        "# Load your dataset (replace with your actual data)\n",
        "data = pd.read_csv(\"/content/drive/MyDrive/survey lung cancer.csv\")\n",
        "\n",
        "# Separate features and target variable\n",
        "X = data.drop(\"LUNG_RECRUITMENT\", axis=1)\n",
        "y = data[\"LUNG_RECRUITMENT\"]\n",
        "\n",
        "from sklearn.preprocessing import StandardScaler, LabelEncoder\n",
        "import pandas as pd\n",
        "\n",
        "# Assuming X is your feature matrix\n",
        "# Identify and encode categorical columns\n",
        "categorical_columns = X.select_dtypes(include=['object']).columns\n",
        "label_encoder = LabelEncoder()\n",
        "\n",
        "for col in categorical_columns:\n",
        "    X[col] = label_encoder.fit_transform(X[col])\n",
        "\n",
        "# Now, you can proceed with feature scaling\n",
        "scaler = StandardScaler()\n",
        "X_scaled = scaler.fit_transform(X)\n",
        "\n",
        "# X_scaled is now your scaled feature matrix\n",
        "\n",
        "\n",
        "\n",
        "# Split data into training and testing sets\n",
        "X_train, X_test, y_train, y_test = train_test_split(X_scaled, y, test_size=0.3, random_state=42)\n",
        "\n",
        "# KNN Model\n",
        "knn_clf = KNeighborsClassifier(n_neighbors=5)  # Experiment with different k values\n",
        "knn_clf.fit(X_train, y_train)\n",
        "y_pred_knn = knn_clf.predict(X_test)\n",
        "\n",
        "# Decision Tree Model\n",
        "dt_clf = DecisionTreeClassifier(max_depth=5)  # Experiment with hyperparameters\n",
        "dt_clf.fit(X_train, y_train)\n",
        "y_pred_dt = dt_clf.predict(X_test)\n",
        "\n",
        "from sklearn.metrics import accuracy_score, precision_score, recall_score, f1_score\n",
        "\n",
        "# Assuming y_test and y_pred_knn are your true labels and predicted labels for KNN\n",
        "print(\"KNN:\")\n",
        "print(f\"Precision: {precision_score(y_test, y_pred_knn, pos_label='YES')}\")\n",
        "print(f\"Recall: {recall_score(y_test, y_pred_knn, pos_label='YES')}\")\n",
        "print(f\"F1-score: {f1_score(y_test, y_pred_knn, pos_label='YES')}\")\n",
        "\n",
        "#Accuracy\n",
        "score_knn = round(accuracy_score(y_test, y_pred_knn)*100,2)\n",
        "print(\"The accuracy score achieved using KNN is: \"+str(score_knn)+\" %\")\n",
        "\n",
        "\n",
        "print(\"\\nDecision Tree:\")\n",
        "print(f\"Precision: {precision_score(y_test, y_pred_dt,pos_label='YES')}\")\n",
        "print(f\"Recall: {recall_score(y_test, y_pred_dt,pos_label='YES')}\")\n",
        "print(f\"F1-score: {f1_score(y_test, y_pred_dt,pos_label='YES')}\")\n",
        "\n",
        "#Accuracy\n",
        "score_dt = round(accuracy_score(y_test, y_pred_dt)*100,2)\n",
        "print(\"The accuracy score achieved using KNN is: \"+str(score_dt)+\" %\")\n",
        "\n",
        "# Hyperparameter tuning and other comparisons (optional)\n",
        "# - Experiment with different k values for KNN and hyperparameters for Decision Tree (max_depth, min_samples_split, etc.).\n",
        "# - Use cross-validation for more robust evaluation.\n",
        "# - Consider additional metrics like AUC-ROC, confusion matrix, or interpretability measures.\n",
        "\n"
      ]
    },
    {
      "cell_type": "code",
      "source": [
        "scores = [score_dt,score_knn]\n",
        "algorithms = [\"Decision Tree\",\"K-Nearest Neighbors\"]\n",
        "\n",
        "for i in range(len(algorithms)):\n",
        "    print(\"The accuracy score achieved using \"+algorithms[i]+\" is: \"+str(scores[i])+\" %\")"
      ],
      "metadata": {
        "colab": {
          "base_uri": "https://localhost:8080/"
        },
        "id": "BsA8-De3v3k6",
        "outputId": "94cf9071-1d97-4b84-eb66-57d89f80afbc"
      },
      "execution_count": 7,
      "outputs": [
        {
          "output_type": "stream",
          "name": "stdout",
          "text": [
            "The accuracy score achieved using Decision Tree is: 92.47 %\n",
            "The accuracy score achieved using K-Nearest Neighbors is: 93.55 %\n"
          ]
        }
      ]
    },
    {
      "cell_type": "code",
      "source": [
        "import seaborn as sns"
      ],
      "metadata": {
        "id": "ZWmgujw6wM_U"
      },
      "execution_count": 8,
      "outputs": []
    },
    {
      "cell_type": "code",
      "source": [
        "# Install the matplotlib module if necessary\n",
        "!pip install matplotlib\n",
        "\n",
        "# Import the matplotlib.pyplot module\n",
        "import matplotlib.pyplot as plt\n",
        "\n",
        "# Set the figure size\n",
        "sns.set(rc={'figure.figsize':(15,8)})\n",
        "\n",
        "# Set the x-axis label\n",
        "plt.xlabel(\"Algorithms\")\n",
        "\n",
        "# Set the y-axis label\n",
        "plt.ylabel(\"Accuracy score\")\n",
        "\n",
        "# Create a bar plot\n",
        "sns.barplot(x=algorithms, y=scores)"
      ],
      "metadata": {
        "colab": {
          "base_uri": "https://localhost:8080/",
          "height": 843
        },
        "id": "Cg9OKZ7awVbi",
        "outputId": "ae830ad2-aad6-4243-fd55-112fc38c4a35"
      },
      "execution_count": 9,
      "outputs": [
        {
          "output_type": "stream",
          "name": "stdout",
          "text": [
            "Requirement already satisfied: matplotlib in /usr/local/lib/python3.10/dist-packages (3.7.1)\n",
            "Requirement already satisfied: contourpy>=1.0.1 in /usr/local/lib/python3.10/dist-packages (from matplotlib) (1.2.0)\n",
            "Requirement already satisfied: cycler>=0.10 in /usr/local/lib/python3.10/dist-packages (from matplotlib) (0.12.1)\n",
            "Requirement already satisfied: fonttools>=4.22.0 in /usr/local/lib/python3.10/dist-packages (from matplotlib) (4.48.1)\n",
            "Requirement already satisfied: kiwisolver>=1.0.1 in /usr/local/lib/python3.10/dist-packages (from matplotlib) (1.4.5)\n",
            "Requirement already satisfied: numpy>=1.20 in /usr/local/lib/python3.10/dist-packages (from matplotlib) (1.23.5)\n",
            "Requirement already satisfied: packaging>=20.0 in /usr/local/lib/python3.10/dist-packages (from matplotlib) (23.2)\n",
            "Requirement already satisfied: pillow>=6.2.0 in /usr/local/lib/python3.10/dist-packages (from matplotlib) (9.4.0)\n",
            "Requirement already satisfied: pyparsing>=2.3.1 in /usr/local/lib/python3.10/dist-packages (from matplotlib) (3.1.1)\n",
            "Requirement already satisfied: python-dateutil>=2.7 in /usr/local/lib/python3.10/dist-packages (from matplotlib) (2.8.2)\n",
            "Requirement already satisfied: six>=1.5 in /usr/local/lib/python3.10/dist-packages (from python-dateutil>=2.7->matplotlib) (1.16.0)\n"
          ]
        },
        {
          "output_type": "execute_result",
          "data": {
            "text/plain": [
              "<Axes: xlabel='Algorithms', ylabel='Accuracy score'>"
            ]
          },
          "metadata": {},
          "execution_count": 9
        },
        {
          "output_type": "display_data",
          "data": {
            "text/plain": [
              "<Figure size 1500x800 with 1 Axes>"
            ],
            "image/png": "[encoded data removed]"
          },
          "metadata": {}
        }
      ]
    }
  ]
}